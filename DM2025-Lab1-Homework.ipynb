{
 "cells": [
  {
   "cell_type": "markdown",
   "metadata": {},
   "source": [
    "### Student Information\n",
    "Name: 曾世賢\n",
    "\n",
    "Student ID: 112006274\n",
    "\n",
    "GitHub ID: Bakuretsu05 (50520529)"
   ]
  },
  {
   "cell_type": "markdown",
   "metadata": {},
   "source": [
    "---"
   ]
  },
  {
   "cell_type": "markdown",
   "metadata": {},
   "source": [
    "### Instructions"
   ]
  },
  {
   "cell_type": "markdown",
   "metadata": {},
   "source": [
    "### First Phase Submission"
   ]
  },
  {
   "cell_type": "markdown",
   "metadata": {},
   "source": [
    "1. First: do the **take home** exercises in the [DM2025-Lab1-Master](https://github.com/leoson-wu/DM2025-Lab1-Exercise/blob/main/DM2025-Lab1-Master.ipynb) that considered as **phase 1 (from exercise 1 to exercise 15)**. You can answer in the master file. __This part is worth 10% of your grade.__\n",
    "\n",
    "\n",
    "2. Second: follow the same process from the [DM2025-Lab1-Master](https://github.com/leoson-wu/DM2025-Lab1-Exercise/blob/main/DM2025-Lab1-Master.ipynb) on **the new dataset** up **until phase 1**. You can skip some exercises if you think some steps are not necessary. However main exercises should be completed. You don't need to explain all details as we did (some **minimal comments** explaining your code are useful though).  __This part is worth 15% of your grade.__\n",
    "    -  Use [the new dataset](https://github.com/leoson-wu/DM2025-Lab1-Exercise/blob/main/newdataset/Reddit-stock-sentiment.csv). The dataset contains a 16 columns including 'text' and 'label', with the sentiment labels being: 1.0 is positive, 0.0 is neutral and -1.0 is negative. You can simplify the dataset and use only the columns that you think are necessary. \n",
    "    \n",
    "    - You are allowed to use and modify the `helper` functions in the folder of the first lab session (notice they may need modification) or create your own.\n",
    "    - Use this file to complete the homework from the second part. Make sure the code can be run from the beginning till the end and has all the needed output.\n",
    "\n",
    "\n",
    "3. Third: please attempt the following tasks on **the new dataset**. __This part is worth 10% of your grade.__\n",
    "    - Generate meaningful **new data visualizations**. Refer to online resources and the Data Mining textbook for inspiration and ideas. \n",
    "    \n",
    "\n",
    "\n",
    "4. Fourth: It's hard for us to follow if your code is messy, so please **tidy up your notebook** and **add minimal comments where needed**. __This part is worth 5% of your grade.__\n",
    "\n",
    "You can submit your homework following these guidelines: [DM2025-Lab1-announcement](https://github.com/leoson-wu/DM2025-Lab1-Announcement/blob/main/README.md). Make sure to commit and save your changes to your repository __BEFORE the deadline (September 28th 11:59 pm, Sunday)__. "
   ]
  },
  {
   "cell_type": "markdown",
   "metadata": {},
   "source": [
    "### Second Phase Submission "
   ]
  },
  {
   "cell_type": "markdown",
   "metadata": {},
   "source": [
    "**You can keep the answer for phase 1 for easier running and update the phase 2 on the same page.**\n",
    "\n",
    "1. First: Continue doing the **take home** exercises in the [DM2025-Lab1-Master](https://github.com/leoson-wu/DM2025-Lab1-Exercise/blob/main/DM2025-Lab1-Master.ipynb) for **phase 2, starting from Finding frequent patterns**. Use the same master(.ipynb) file. Answer from phase 1 will not be considered at this stage. You can answer in the master file. __This part is worth 10% of your grade.__\n",
    "\n",
    "\n",
    "2. Second: Continue from first phase and do the same process from the [DM2025-Lab1-Master](https://github.com/leoson-wu/DM2025-Lab1-Exercise/blob/main/DM2025-Lab1-Master.ipynb) on **the new dataset** for phase 2, starting from Finding frequent pattern. You can skip some exercises if you think some steps are not necessary. However main exercises should be completed. You don't need to explain all details as we did (some **minimal comments** explaining your code are useful though).  __This part is worth 15% of your grade.__\n",
    "    - Continue using this file to complete the homework from the second part. Make sure the code can be run from the beginning till the end and has all the needed output. Use the same new dataset as in phase 1.\n",
    "    \n",
    "    - You are allowed to use and modify the `helper` functions in the folder of the first lab session (notice they may need modification) or create your own.\n",
    "\n",
    "3. Third: please attempt the following tasks on **the new dataset**. __This part is worth 20% of your grade.__\n",
    "    - Use this file to answer.\n",
    "    - Generate **TF-IDF features** from the tokens of each text. This will generating a document matrix, however, the weights will be computed differently (using the TF-IDF value of each word per document as opposed to the word frequency).  Refer to this Scikit-learn [guide](http://scikit-learn.org/stable/modules/generated/sklearn.feature_extraction.text.TfidfVectorizer.html) .\n",
    "    - Implement a simple **Naive Bayes classifier** that automatically classifies the records into their categories. Use both the TF-IDF features and word frequency features to build two seperate classifiers. Note that for the TF-IDF features you might need to use other type of NB classifier different than the one in the Master Notebook. Comment on the differences and when using augmentation with feature pattern.  Refer to this [article](https://hub.packtpub.com/implementing-3-naive-bayes-classifiers-in-scikit-learn/).\n",
    "\n",
    "\n",
    "4. Fourth: In the lab, we applied each step really quickly just to illustrate how to work with your dataset. There are somethings that are not ideal or the most efficient/meaningful. Each dataset can be handled differently as well. What are those inefficent parts you noticed? How can you improve the Data preprocessing for these specific datasets? __This part is worth 10% of your grade.__\n",
    "\n",
    "\n",
    "5. Fifth: It's hard for us to follow if your code is messy, so please **tidy up your notebook** and **add minimal comments where needed**. __This part is worth 5% of your grade.__\n",
    "\n",
    "\n",
    "You can submit your homework following these guidelines: [DM2025-Lab1-announcement](https://github.com/leoson-wu/DM2025-Lab1-Announcement/blob/main/README.md). Make sure to commit and save your changes to your repository __BEFORE the deadline (October 19th 11:59 pm, Sunday)__. "
   ]
  },
  {
   "cell_type": "markdown",
   "metadata": {},
   "source": [
    "# Phase 1"
   ]
  },
  {
   "cell_type": "markdown",
   "metadata": {},
   "source": [
    "### Begin Assignment Here\n",
    "\n",
    "## TODO\n",
    "**Phase 1**\n",
    "1. Data Source\n",
    "2. Data Preparation\n",
    "3. Data Transformation\n",
    " - 3.1 Converting Dictionary into Pandas dataframe\n",
    " - 3.2 Familiarizing yourself with the Data\n",
    "4. Data Mining using Pandas\n",
    " - 4.1 Dealing with Missing Values\n",
    " - 4.2 Dealing with Duplicate Data\n",
    "5. Data Preprocessing\n",
    " - 5.1 Sampling\n",
    " - 5.2 Feature Creation\n",
    " - 5.3 Feature Subset Selection\n",
    " - 5.4 Atrribute Transformation / Aggregation\n",
    "   - 5.4.1 Transform Text Data"
   ]
  },
  {
   "cell_type": "code",
   "execution_count": 87,
   "metadata": {},
   "outputs": [
    {
     "name": "stderr",
     "output_type": "stream",
     "text": [
      "[nltk_data] Downloading package punkt to\n",
      "[nltk_data]     C:\\Users\\marvi\\AppData\\Roaming\\nltk_data...\n",
      "[nltk_data]   Package punkt is already up-to-date!\n",
      "[nltk_data] Downloading package punkt_tab to\n",
      "[nltk_data]     C:\\Users\\marvi\\AppData\\Roaming\\nltk_data...\n",
      "[nltk_data]   Package punkt_tab is already up-to-date!\n"
     ]
    },
    {
     "data": {
      "text/plain": [
       "True"
      ]
     },
     "execution_count": 87,
     "metadata": {},
     "output_type": "execute_result"
    }
   ],
   "source": [
    "# Import all the necessary libraries\n",
    "\n",
    "import pandas as pd\n",
    "import numpy as np\n",
    "import math\n",
    "import plotly.express as px\n",
    "import helpers.data_mining_helpers as dmh\n",
    "from sklearn.feature_extraction.text import CountVectorizer\n",
    "\n",
    "import nltk\n",
    "nltk.download(\"punkt\") \n",
    "nltk.download(\"punkt_tab\")"
   ]
  },
  {
   "cell_type": "markdown",
   "metadata": {},
   "source": [
    "### Data Preparation & Transformation"
   ]
  },
  {
   "cell_type": "code",
   "execution_count": 88,
   "metadata": {},
   "outputs": [
    {
     "data": {
      "text/html": [
       "<div>\n",
       "<style scoped>\n",
       "    .dataframe tbody tr th:only-of-type {\n",
       "        vertical-align: middle;\n",
       "    }\n",
       "\n",
       "    .dataframe tbody tr th {\n",
       "        vertical-align: top;\n",
       "    }\n",
       "\n",
       "    .dataframe thead th {\n",
       "        text-align: right;\n",
       "    }\n",
       "</style>\n",
       "<table border=\"1\" class=\"dataframe\">\n",
       "  <thead>\n",
       "    <tr style=\"text-align: right;\">\n",
       "      <th></th>\n",
       "      <th>text</th>\n",
       "      <th>title</th>\n",
       "      <th>label</th>\n",
       "      <th>subreddit</th>\n",
       "      <th>upvotes</th>\n",
       "      <th>subjectivity</th>\n",
       "      <th>polarity</th>\n",
       "      <th>sentiment</th>\n",
       "    </tr>\n",
       "  </thead>\n",
       "  <tbody>\n",
       "    <tr>\n",
       "      <th>0</th>\n",
       "      <td>Calls on retards</td>\n",
       "      <td>Retardation is on the menu boys! WSB is so back</td>\n",
       "      <td>-1.0</td>\n",
       "      <td>wallstreetbets</td>\n",
       "      <td>0</td>\n",
       "      <td>1.000000</td>\n",
       "      <td>-0.900000</td>\n",
       "      <td>-1.0</td>\n",
       "    </tr>\n",
       "    <tr>\n",
       "      <th>1</th>\n",
       "      <td>Stunt as in like why did they even make a big ...</td>\n",
       "      <td>Retail giant TARGET has now declined for 10 co...</td>\n",
       "      <td>0.0</td>\n",
       "      <td>wallstreetbets</td>\n",
       "      <td>-15</td>\n",
       "      <td>0.177778</td>\n",
       "      <td>0.083333</td>\n",
       "      <td>1.0</td>\n",
       "    </tr>\n",
       "    <tr>\n",
       "      <th>2</th>\n",
       "      <td>Seeing lots of red in the ticker.</td>\n",
       "      <td>How do you feel about a sitting president maki...</td>\n",
       "      <td>0.0</td>\n",
       "      <td>StockMarket</td>\n",
       "      <td>1</td>\n",
       "      <td>0.000000</td>\n",
       "      <td>0.000000</td>\n",
       "      <td>0.0</td>\n",
       "    </tr>\n",
       "    <tr>\n",
       "      <th>3</th>\n",
       "      <td>Vision Marine Technologies Inc. is rewriting t...</td>\n",
       "      <td>Who knows more? $VMAR</td>\n",
       "      <td>1.0</td>\n",
       "      <td>stockstobuytoday</td>\n",
       "      <td>30</td>\n",
       "      <td>0.646970</td>\n",
       "      <td>0.216383</td>\n",
       "      <td>1.0</td>\n",
       "    </tr>\n",
       "    <tr>\n",
       "      <th>4</th>\n",
       "      <td>He didn’t say thank you.</td>\n",
       "      <td>The Trump administration is begging Xi Jinping...</td>\n",
       "      <td>-1.0</td>\n",
       "      <td>StockMarket</td>\n",
       "      <td>1</td>\n",
       "      <td>0.000000</td>\n",
       "      <td>0.000000</td>\n",
       "      <td>0.0</td>\n",
       "    </tr>\n",
       "    <tr>\n",
       "      <th>...</th>\n",
       "      <td>...</td>\n",
       "      <td>...</td>\n",
       "      <td>...</td>\n",
       "      <td>...</td>\n",
       "      <td>...</td>\n",
       "      <td>...</td>\n",
       "      <td>...</td>\n",
       "      <td>...</td>\n",
       "    </tr>\n",
       "    <tr>\n",
       "      <th>842</th>\n",
       "      <td>Invest now it is going to shoot up tomorrow</td>\n",
       "      <td>$MRIN Marin Software killed it today. Hope som...</td>\n",
       "      <td>1.0</td>\n",
       "      <td>stockstobuytoday</td>\n",
       "      <td>1</td>\n",
       "      <td>0.000000</td>\n",
       "      <td>0.000000</td>\n",
       "      <td>0.0</td>\n",
       "    </tr>\n",
       "    <tr>\n",
       "      <th>843</th>\n",
       "      <td>Where can I read this?</td>\n",
       "      <td>$ U.S. dollar value (crashing)</td>\n",
       "      <td>0.0</td>\n",
       "      <td>StockMarket</td>\n",
       "      <td>2</td>\n",
       "      <td>0.000000</td>\n",
       "      <td>0.000000</td>\n",
       "      <td>0.0</td>\n",
       "    </tr>\n",
       "    <tr>\n",
       "      <th>844</th>\n",
       "      <td>Upgrades, Downgrades\\r\\n\\r\\n [Stock Analyst Re...</td>\n",
       "      <td>Analyst Recommendations</td>\n",
       "      <td>0.0</td>\n",
       "      <td>stockstobuytoday</td>\n",
       "      <td>1</td>\n",
       "      <td>0.000000</td>\n",
       "      <td>0.000000</td>\n",
       "      <td>0.0</td>\n",
       "    </tr>\n",
       "    <tr>\n",
       "      <th>845</th>\n",
       "      <td>i sold my puts so i expect cheeto to declare w...</td>\n",
       "      <td>Weekend Discussion Thread for the Weekend of A...</td>\n",
       "      <td>-1.0</td>\n",
       "      <td>wallstreetbets</td>\n",
       "      <td>10</td>\n",
       "      <td>0.000000</td>\n",
       "      <td>0.000000</td>\n",
       "      <td>0.0</td>\n",
       "    </tr>\n",
       "    <tr>\n",
       "      <th>846</th>\n",
       "      <td>![img](emote|t5_2th52|31224)</td>\n",
       "      <td>Someone post the hotline please.</td>\n",
       "      <td>0.0</td>\n",
       "      <td>wallstreetbets</td>\n",
       "      <td>1</td>\n",
       "      <td>0.000000</td>\n",
       "      <td>0.000000</td>\n",
       "      <td>0.0</td>\n",
       "    </tr>\n",
       "  </tbody>\n",
       "</table>\n",
       "<p>847 rows × 8 columns</p>\n",
       "</div>"
      ],
      "text/plain": [
       "                                                  text  \\\n",
       "0                                     Calls on retards   \n",
       "1    Stunt as in like why did they even make a big ...   \n",
       "2                    Seeing lots of red in the ticker.   \n",
       "3    Vision Marine Technologies Inc. is rewriting t...   \n",
       "4                             He didn’t say thank you.   \n",
       "..                                                 ...   \n",
       "842        Invest now it is going to shoot up tomorrow   \n",
       "843                             Where can I read this?   \n",
       "844  Upgrades, Downgrades\\r\\n\\r\\n [Stock Analyst Re...   \n",
       "845  i sold my puts so i expect cheeto to declare w...   \n",
       "846                       ![img](emote|t5_2th52|31224)   \n",
       "\n",
       "                                                 title  label  \\\n",
       "0      Retardation is on the menu boys! WSB is so back   -1.0   \n",
       "1    Retail giant TARGET has now declined for 10 co...    0.0   \n",
       "2    How do you feel about a sitting president maki...    0.0   \n",
       "3                                Who knows more? $VMAR    1.0   \n",
       "4    The Trump administration is begging Xi Jinping...   -1.0   \n",
       "..                                                 ...    ...   \n",
       "842  $MRIN Marin Software killed it today. Hope som...    1.0   \n",
       "843                     $ U.S. dollar value (crashing)    0.0   \n",
       "844                            Analyst Recommendations    0.0   \n",
       "845  Weekend Discussion Thread for the Weekend of A...   -1.0   \n",
       "846                   Someone post the hotline please.    0.0   \n",
       "\n",
       "            subreddit  upvotes  subjectivity  polarity  sentiment  \n",
       "0      wallstreetbets        0      1.000000 -0.900000       -1.0  \n",
       "1      wallstreetbets      -15      0.177778  0.083333        1.0  \n",
       "2         StockMarket        1      0.000000  0.000000        0.0  \n",
       "3    stockstobuytoday       30      0.646970  0.216383        1.0  \n",
       "4         StockMarket        1      0.000000  0.000000        0.0  \n",
       "..                ...      ...           ...       ...        ...  \n",
       "842  stockstobuytoday        1      0.000000  0.000000        0.0  \n",
       "843       StockMarket        2      0.000000  0.000000        0.0  \n",
       "844  stockstobuytoday        1      0.000000  0.000000        0.0  \n",
       "845    wallstreetbets       10      0.000000  0.000000        0.0  \n",
       "846    wallstreetbets        1      0.000000  0.000000        0.0  \n",
       "\n",
       "[847 rows x 8 columns]"
      ]
     },
     "execution_count": 88,
     "metadata": {},
     "output_type": "execute_result"
    }
   ],
   "source": [
    "# Import data\n",
    "df = pd.read_csv(\"./newdataset/Reddit-stock-sentiment.csv\")\n",
    "\n",
    "# note that pd.read_csv turns a csv into a dataframe\n",
    "\n",
    "# List of relevant columns\n",
    "columns = ['text', 'title', 'label', 'subreddit', 'upvotes', 'subjectivity', 'polarity', 'sentiment']\n",
    "\n",
    "df = df[columns].copy()\n",
    "df"
   ]
  },
  {
   "cell_type": "code",
   "execution_count": 89,
   "metadata": {},
   "outputs": [
    {
     "name": "stdout",
     "output_type": "stream",
     "text": [
      "========= Example 1: =========\n",
      "Title: Retardation is on the menu boys! WSB is so back\n",
      "Subreddit: r/wallstreetbets\n",
      "Text: Calls on retards\n",
      "Sentiment: -1.0\n",
      "\n",
      "========= Example 2: =========\n",
      "Title: Retail giant TARGET has now declined for 10 consecutive weeks, its longest losing streak in history\n",
      "Subreddit: r/wallstreetbets\n",
      "Text: Stunt as in like why did they even make a big deal about starting it in the first place? No company should ever talk about politics ever.\n",
      "Sentiment: 1.0\n",
      "\n",
      "========= Example 3: =========\n",
      "Title: How do you feel about a sitting president making $415M in one day after pumping his own stock with social media and a policy decision?\n",
      "Subreddit: r/StockMarket\n",
      "Text: Seeing lots of red in the ticker.\n",
      "Sentiment: 0.0\n",
      "\n"
     ]
    }
   ],
   "source": [
    "# Exercise 1: Print out the text data for the first three samples in the datasetfor i in range(0,3):\n",
    "for i in range(0, 3):\n",
    "    print(f\"========= Example {i + 1}: =========\")\n",
    "    print(f\"Title: {df.loc[i, 'title']}\")\n",
    "    print(f\"Subreddit: r/{df.loc[i, 'subreddit']}\")\n",
    "    print(f\"Text: {df.loc[i, 'text']}\")\n",
    "    print(f\"Sentiment: {df.loc[i, 'sentiment']}\\n\")"
   ]
  },
  {
   "cell_type": "code",
   "execution_count": 90,
   "metadata": {},
   "outputs": [
    {
     "data": {
      "text/html": [
       "<div>\n",
       "<style scoped>\n",
       "    .dataframe tbody tr th:only-of-type {\n",
       "        vertical-align: middle;\n",
       "    }\n",
       "\n",
       "    .dataframe tbody tr th {\n",
       "        vertical-align: top;\n",
       "    }\n",
       "\n",
       "    .dataframe thead th {\n",
       "        text-align: right;\n",
       "    }\n",
       "</style>\n",
       "<table border=\"1\" class=\"dataframe\">\n",
       "  <thead>\n",
       "    <tr style=\"text-align: right;\">\n",
       "      <th></th>\n",
       "      <th>text</th>\n",
       "      <th>subreddit</th>\n",
       "    </tr>\n",
       "  </thead>\n",
       "  <tbody>\n",
       "    <tr>\n",
       "      <th>305</th>\n",
       "      <td>You can evaluate the price of a company by loo...</td>\n",
       "      <td>wallstreetbets</td>\n",
       "    </tr>\n",
       "    <tr>\n",
       "      <th>327</th>\n",
       "      <td>Yippee..... If the US dollar goes to zero then...</td>\n",
       "      <td>wallstreetbets</td>\n",
       "    </tr>\n",
       "  </tbody>\n",
       "</table>\n",
       "</div>"
      ],
      "text/plain": [
       "                                                  text       subreddit\n",
       "305  You can evaluate the price of a company by loo...  wallstreetbets\n",
       "327  Yippee..... If the US dollar goes to zero then...  wallstreetbets"
      ]
     },
     "execution_count": 90,
     "metadata": {},
     "output_type": "execute_result"
    }
   ],
   "source": [
    "# Exercise 2: Experimenting with querying techniques\n",
    "\n",
    "# Axes left out of the specs will be assumed as :\n",
    "# here we are querying all the columns\n",
    "df.loc[:10]\n",
    "\n",
    "# Extract the 'text' column\n",
    "df_text_ = df['text']\n",
    "\n",
    "# Access the second text\n",
    "df_text_[2]\n",
    "\n",
    "# rows where category is 'wallstreetbets' and text contains 'stock'\n",
    "mask = (df['subreddit'] == 'wallstreetbets') & df['text'].str.contains('stock', case=False, na=False)\n",
    "result = df.loc[mask, ['text', 'subreddit']]\n",
    "\n",
    "result"
   ]
  },
  {
   "cell_type": "code",
   "execution_count": 91,
   "metadata": {},
   "outputs": [
    {
     "data": {
      "text/html": [
       "<div>\n",
       "<style scoped>\n",
       "    .dataframe tbody tr th:only-of-type {\n",
       "        vertical-align: middle;\n",
       "    }\n",
       "\n",
       "    .dataframe tbody tr th {\n",
       "        vertical-align: top;\n",
       "    }\n",
       "\n",
       "    .dataframe thead th {\n",
       "        text-align: right;\n",
       "    }\n",
       "</style>\n",
       "<table border=\"1\" class=\"dataframe\">\n",
       "  <thead>\n",
       "    <tr style=\"text-align: right;\">\n",
       "      <th></th>\n",
       "      <th>text</th>\n",
       "      <th>title</th>\n",
       "      <th>label</th>\n",
       "      <th>subreddit</th>\n",
       "      <th>upvotes</th>\n",
       "      <th>subjectivity</th>\n",
       "      <th>polarity</th>\n",
       "      <th>sentiment</th>\n",
       "    </tr>\n",
       "  </thead>\n",
       "  <tbody>\n",
       "    <tr>\n",
       "      <th>2</th>\n",
       "      <td>Seeing lots of red in the ticker.</td>\n",
       "      <td>How do you feel about a sitting president maki...</td>\n",
       "      <td>0.0</td>\n",
       "      <td>StockMarket</td>\n",
       "      <td>1</td>\n",
       "      <td>0.00</td>\n",
       "      <td>0.00</td>\n",
       "      <td>0.0</td>\n",
       "    </tr>\n",
       "    <tr>\n",
       "      <th>62</th>\n",
       "      <td>Comedy gold :))</td>\n",
       "      <td>The Trump administration is begging Xi Jinping...</td>\n",
       "      <td>-1.0</td>\n",
       "      <td>StockMarket</td>\n",
       "      <td>1</td>\n",
       "      <td>1.00</td>\n",
       "      <td>0.50</td>\n",
       "      <td>1.0</td>\n",
       "    </tr>\n",
       "    <tr>\n",
       "      <th>94</th>\n",
       "      <td>I can’t take four years of lying. Help!</td>\n",
       "      <td>Trump: We Are Doing Really Well On Our Tariff ...</td>\n",
       "      <td>0.0</td>\n",
       "      <td>StockMarket</td>\n",
       "      <td>1</td>\n",
       "      <td>0.00</td>\n",
       "      <td>0.00</td>\n",
       "      <td>0.0</td>\n",
       "    </tr>\n",
       "    <tr>\n",
       "      <th>113</th>\n",
       "      <td>\\r\\nAn evil man will burn his own nation to th...</td>\n",
       "      <td>🚨China responds to Trump’s 145% tariff with an...</td>\n",
       "      <td>0.0</td>\n",
       "      <td>StockMarket</td>\n",
       "      <td>2</td>\n",
       "      <td>1.00</td>\n",
       "      <td>-1.00</td>\n",
       "      <td>-1.0</td>\n",
       "    </tr>\n",
       "    <tr>\n",
       "      <th>146</th>\n",
       "      <td>He reached this level only because of his inhe...</td>\n",
       "      <td>$ U.S. dollar value (crashing)</td>\n",
       "      <td>-1.0</td>\n",
       "      <td>StockMarket</td>\n",
       "      <td>1</td>\n",
       "      <td>0.25</td>\n",
       "      <td>0.25</td>\n",
       "      <td>1.0</td>\n",
       "    </tr>\n",
       "  </tbody>\n",
       "</table>\n",
       "</div>"
      ],
      "text/plain": [
       "                                                  text  \\\n",
       "2                    Seeing lots of red in the ticker.   \n",
       "62                                     Comedy gold :))   \n",
       "94             I can’t take four years of lying. Help!   \n",
       "113  \\r\\nAn evil man will burn his own nation to th...   \n",
       "146  He reached this level only because of his inhe...   \n",
       "\n",
       "                                                 title  label    subreddit  \\\n",
       "2    How do you feel about a sitting president maki...    0.0  StockMarket   \n",
       "62   The Trump administration is begging Xi Jinping...   -1.0  StockMarket   \n",
       "94   Trump: We Are Doing Really Well On Our Tariff ...    0.0  StockMarket   \n",
       "113  🚨China responds to Trump’s 145% tariff with an...    0.0  StockMarket   \n",
       "146                     $ U.S. dollar value (crashing)   -1.0  StockMarket   \n",
       "\n",
       "     upvotes  subjectivity  polarity  sentiment  \n",
       "2          1          0.00      0.00        0.0  \n",
       "62         1          1.00      0.50        1.0  \n",
       "94         1          0.00      0.00        0.0  \n",
       "113        2          1.00     -1.00       -1.0  \n",
       "146        1          0.25      0.25        1.0  "
      ]
     },
     "execution_count": 91,
     "metadata": {},
     "output_type": "execute_result"
    }
   ],
   "source": [
    "# Exercise 3: Try to fetch records belonging to the 'StockMarket' subreddit, and query every 10th record. Only show the first 5 records.\n",
    "df[df[\"subreddit\"] == \"StockMarket\"][::10][:5]"
   ]
  },
  {
   "cell_type": "code",
   "execution_count": 92,
   "metadata": {},
   "outputs": [
    {
     "name": "stdout",
     "output_type": "stream",
     "text": [
      "      text  title  label  subreddit  upvotes  subjectivity  polarity  \\\n",
      "0    False  False  False      False    False         False     False   \n",
      "1    False  False  False      False    False         False     False   \n",
      "2    False  False  False      False    False         False     False   \n",
      "3    False  False  False      False    False         False     False   \n",
      "4    False  False  False      False    False         False     False   \n",
      "..     ...    ...    ...        ...      ...           ...       ...   \n",
      "842  False  False  False      False    False         False     False   \n",
      "843  False  False  False      False    False         False     False   \n",
      "844  False  False  False      False    False         False     False   \n",
      "845  False  False  False      False    False         False     False   \n",
      "846  False  False  False      False    False         False     False   \n",
      "\n",
      "     sentiment  \n",
      "0        False  \n",
      "1        False  \n",
      "2        False  \n",
      "3        False  \n",
      "4        False  \n",
      "..         ...  \n",
      "842      False  \n",
      "843      False  \n",
      "844      False  \n",
      "845      False  \n",
      "846      False  \n",
      "\n",
      "[847 rows x 8 columns]\n"
     ]
    },
    {
     "data": {
      "text/html": [
       "<div>\n",
       "<style scoped>\n",
       "    .dataframe tbody tr th:only-of-type {\n",
       "        vertical-align: middle;\n",
       "    }\n",
       "\n",
       "    .dataframe tbody tr th {\n",
       "        vertical-align: top;\n",
       "    }\n",
       "\n",
       "    .dataframe thead th {\n",
       "        text-align: right;\n",
       "    }\n",
       "</style>\n",
       "<table border=\"1\" class=\"dataframe\">\n",
       "  <thead>\n",
       "    <tr style=\"text-align: right;\">\n",
       "      <th></th>\n",
       "      <th>text</th>\n",
       "      <th>title</th>\n",
       "      <th>label</th>\n",
       "      <th>subreddit</th>\n",
       "      <th>upvotes</th>\n",
       "      <th>subjectivity</th>\n",
       "      <th>polarity</th>\n",
       "      <th>sentiment</th>\n",
       "    </tr>\n",
       "  </thead>\n",
       "  <tbody>\n",
       "    <tr>\n",
       "      <th>0</th>\n",
       "      <td>The amoung of missing records is:</td>\n",
       "      <td>The amoung of missing records is:</td>\n",
       "      <td>The amoung of missing records is:</td>\n",
       "      <td>The amoung of missing records is:</td>\n",
       "      <td>The amoung of missing records is:</td>\n",
       "      <td>The amoung of missing records is:</td>\n",
       "      <td>The amoung of missing records is:</td>\n",
       "      <td>The amoung of missing records is:</td>\n",
       "    </tr>\n",
       "    <tr>\n",
       "      <th>1</th>\n",
       "      <td>0</td>\n",
       "      <td>0</td>\n",
       "      <td>0</td>\n",
       "      <td>0</td>\n",
       "      <td>0</td>\n",
       "      <td>0</td>\n",
       "      <td>0</td>\n",
       "      <td>0</td>\n",
       "    </tr>\n",
       "  </tbody>\n",
       "</table>\n",
       "</div>"
      ],
      "text/plain": [
       "                                 text                               title  \\\n",
       "0  The amoung of missing records is:   The amoung of missing records is:    \n",
       "1                                   0                                   0   \n",
       "\n",
       "                                label                           subreddit  \\\n",
       "0  The amoung of missing records is:   The amoung of missing records is:    \n",
       "1                                   0                                   0   \n",
       "\n",
       "                              upvotes                        subjectivity  \\\n",
       "0  The amoung of missing records is:   The amoung of missing records is:    \n",
       "1                                   0                                   0   \n",
       "\n",
       "                             polarity                           sentiment  \n",
       "0  The amoung of missing records is:   The amoung of missing records is:   \n",
       "1                                   0                                   0  "
      ]
     },
     "execution_count": 92,
     "metadata": {},
     "output_type": "execute_result"
    }
   ],
   "source": [
    "# Check for missing values in the dataset\n",
    "print(df.isnull())\n",
    "df.isnull().apply(lambda x: dmh.check_missing_values(x))"
   ]
  },
  {
   "cell_type": "code",
   "execution_count": 93,
   "metadata": {},
   "outputs": [
    {
     "data": {
      "text/plain": [
       "0      (The amoung of missing records is: , 0)\n",
       "1      (The amoung of missing records is: , 0)\n",
       "2      (The amoung of missing records is: , 0)\n",
       "3      (The amoung of missing records is: , 0)\n",
       "4      (The amoung of missing records is: , 0)\n",
       "                        ...                   \n",
       "842    (The amoung of missing records is: , 0)\n",
       "843    (The amoung of missing records is: , 0)\n",
       "844    (The amoung of missing records is: , 0)\n",
       "845    (The amoung of missing records is: , 0)\n",
       "846    (The amoung of missing records is: , 0)\n",
       "Length: 847, dtype: object"
      ]
     },
     "execution_count": 93,
     "metadata": {},
     "output_type": "execute_result"
    }
   ],
   "source": [
    "# Exercise 4: Calculate missing values in every record\n",
    "df.isnull().apply(lambda x: dmh.check_missing_values(x), axis=1)"
   ]
  },
  {
   "cell_type": "code",
   "execution_count": 94,
   "metadata": {},
   "outputs": [
    {
     "data": {
      "text/plain": [
       "21"
      ]
     },
     "execution_count": 94,
     "metadata": {},
     "output_type": "execute_result"
    }
   ],
   "source": [
    "# Check for duplicates\n",
    "df.duplicated()\n",
    "sum(df.duplicated())"
   ]
  },
  {
   "cell_type": "markdown",
   "metadata": {},
   "source": [
    "it seems like we have 21 duplicates, so we are gonna drop the duplicates from the dataset"
   ]
  },
  {
   "cell_type": "code",
   "execution_count": 95,
   "metadata": {},
   "outputs": [
    {
     "name": "stdout",
     "output_type": "stream",
     "text": [
      "Length before dropping duplicates: 847\n",
      "Length after dropping duplicates: 817\n"
     ]
    }
   ],
   "source": [
    "# Drop the duplicates\n",
    "print(f\"Length before dropping duplicates: {len(df)}\")\n",
    "df.drop_duplicates(keep=False, inplace=True)\n",
    "print(f\"Length after dropping duplicates: {len(df)}\")"
   ]
  },
  {
   "cell_type": "code",
   "execution_count": 96,
   "metadata": {},
   "outputs": [],
   "source": [
    "import matplotlib.pyplot as plt\n",
    "import seaborn as sns\n",
    "import plotly.express as px\n",
    "import plotly.graph_objects as go\n",
    "import numpy as np"
   ]
  },
  {
   "cell_type": "code",
   "execution_count": 97,
   "metadata": {},
   "outputs": [
    {
     "name": "stdout",
     "output_type": "stream",
     "text": [
      "subreddit\n",
      "stocks              274\n",
      "StockMarket         250\n",
      "wallstreetbets      149\n",
      "stockstobuytoday    144\n",
      "Name: count, dtype: int64\n"
     ]
    },
    {
     "data": {
      "text/plain": [
       "<Axes: title={'center': 'Subreddit Distribution'}, xlabel='subreddit'>"
      ]
     },
     "execution_count": 97,
     "metadata": {},
     "output_type": "execute_result"
    },
    {
     "data": {
      "image/png": "[encoded data removed]",
      "text/plain": [
       "<Figure size 800x300 with 1 Axes>"
      ]
     },
     "metadata": {},
     "output_type": "display_data"
    }
   ],
   "source": [
    "# Exercise 7?: Plot the subreddit distribution\n",
    "print(df.subreddit.value_counts())\n",
    "df.subreddit.value_counts().plot(kind = 'bar',\n",
    "                                    title = 'Subreddit Distribution',\n",
    "                                    ylim = [0, df.subreddit.value_counts().max() + 30],        \n",
    "                                    rot = 0, fontsize = 11, figsize = (8,3))"
   ]
  },
  {
   "cell_type": "markdown",
   "metadata": {},
   "source": [
    "### Data Preprocessing"
   ]
  },
  {
   "cell_type": "code",
   "execution_count": 98,
   "metadata": {},
   "outputs": [
    {
     "name": "stdout",
     "output_type": "stream",
     "text": [
      "  (np.int32(0), np.int32(689))\t1\n",
      "  (np.int32(0), np.int32(2682))\t1\n",
      "  (np.int32(0), np.int32(3222))\t1\n"
     ]
    },
    {
     "data": {
      "text/plain": [
       "'recreation'"
      ]
     },
     "execution_count": 98,
     "metadata": {},
     "output_type": "execute_result"
    }
   ],
   "source": [
    "\n",
    "count_vect = CountVectorizer()\n",
    "df_counts = count_vect.fit_transform(df.text) #learn the vocabulary and return document-term matrix\n",
    "print(df_counts[0])\n",
    "\n",
    "count_vect.get_feature_names_out()[3123]"
   ]
  },
  {
   "cell_type": "code",
   "execution_count": 99,
   "metadata": {},
   "outputs": [
    {
     "data": {
      "text/plain": [
       "['calls', 'on', 'retards']"
      ]
     },
     "execution_count": 99,
     "metadata": {},
     "output_type": "execute_result"
    }
   ],
   "source": [
    "# Exercise 9: Analyze the first record\n",
    "analyze = count_vect.build_analyzer()\n",
    "analyze(df.text[0])"
   ]
  },
  {
   "cell_type": "code",
   "execution_count": 100,
   "metadata": {},
   "outputs": [
    {
     "data": {
      "text/plain": [
       "array([[0, 0, 0, 0, 0, 0, 0, 0, 0, 0, 0, 0, 0, 0, 0, 0, 0, 0, 0, 0, 0, 0,\n",
       "        0, 0, 0, 0, 0, 0, 0, 0, 0, 0, 0, 0, 0, 0, 0, 0, 0, 0, 0, 0, 0, 0,\n",
       "        0, 0, 0, 0, 0, 0, 0, 0, 0, 0, 0, 0, 0, 0, 0, 0, 0, 0, 0, 0, 0, 0,\n",
       "        0, 0, 0, 0, 0, 0, 0, 0, 0, 0, 0, 0, 0, 0, 0, 0, 0, 0, 0, 0, 0, 0,\n",
       "        0, 0, 0, 0, 0, 0, 0, 0, 0, 0, 0, 0],\n",
       "       [0, 0, 0, 0, 0, 0, 0, 0, 0, 0, 0, 0, 0, 0, 0, 0, 0, 0, 0, 0, 0, 0,\n",
       "        0, 0, 0, 0, 0, 0, 0, 0, 0, 0, 0, 0, 0, 0, 0, 0, 0, 0, 0, 0, 0, 0,\n",
       "        0, 0, 0, 0, 0, 0, 0, 0, 0, 0, 0, 0, 0, 0, 0, 0, 0, 0, 0, 0, 0, 0,\n",
       "        0, 0, 0, 0, 0, 0, 0, 0, 0, 0, 0, 0, 0, 0, 0, 0, 0, 0, 0, 0, 0, 0,\n",
       "        0, 0, 0, 0, 0, 0, 0, 0, 0, 0, 0, 0],\n",
       "       [0, 0, 0, 0, 0, 0, 0, 0, 0, 0, 0, 0, 0, 0, 0, 0, 0, 0, 0, 0, 0, 0,\n",
       "        0, 0, 0, 0, 0, 0, 0, 0, 0, 0, 0, 0, 0, 0, 0, 0, 0, 0, 0, 0, 0, 0,\n",
       "        0, 0, 0, 0, 0, 0, 0, 0, 0, 0, 0, 0, 0, 0, 0, 0, 0, 0, 0, 0, 0, 0,\n",
       "        0, 0, 0, 0, 0, 0, 0, 0, 0, 0, 0, 0, 0, 0, 0, 0, 0, 0, 0, 0, 0, 0,\n",
       "        0, 0, 0, 0, 0, 0, 0, 0, 0, 0, 0, 0],\n",
       "       [0, 0, 0, 0, 0, 0, 0, 0, 0, 0, 0, 0, 0, 0, 0, 0, 0, 0, 3, 0, 0, 0,\n",
       "        0, 0, 0, 0, 0, 0, 0, 0, 0, 0, 0, 0, 0, 0, 0, 0, 0, 0, 0, 0, 0, 0,\n",
       "        0, 0, 0, 0, 0, 0, 0, 0, 0, 0, 0, 0, 0, 0, 0, 0, 0, 0, 0, 0, 0, 0,\n",
       "        0, 0, 0, 0, 0, 0, 0, 0, 0, 0, 0, 0, 0, 0, 0, 0, 0, 0, 0, 0, 0, 0,\n",
       "        0, 0, 0, 0, 0, 0, 0, 0, 0, 0, 0, 0],\n",
       "       [0, 0, 0, 0, 0, 0, 0, 0, 0, 0, 0, 0, 0, 0, 0, 0, 0, 0, 0, 0, 0, 0,\n",
       "        0, 0, 0, 0, 0, 0, 0, 0, 0, 0, 0, 0, 0, 0, 0, 0, 0, 0, 0, 0, 0, 0,\n",
       "        0, 0, 0, 0, 0, 0, 0, 0, 0, 0, 0, 0, 0, 0, 0, 0, 0, 0, 0, 0, 0, 0,\n",
       "        0, 0, 0, 0, 0, 0, 0, 0, 0, 0, 0, 0, 0, 0, 0, 0, 0, 0, 0, 0, 0, 0,\n",
       "        0, 0, 0, 0, 0, 0, 0, 0, 0, 0, 0, 0]])"
      ]
     },
     "execution_count": 100,
     "metadata": {},
     "output_type": "execute_result"
    }
   ],
   "source": [
    "# Exercise 10 \n",
    "df_counts[0:5, 0:100].toarray()"
   ]
  },
  {
   "cell_type": "code",
   "execution_count": 101,
   "metadata": {},
   "outputs": [
    {
     "name": "stdout",
     "output_type": "stream",
     "text": [
      "on\n"
     ]
    }
   ],
   "source": [
    "row = df_counts[3]\n",
    "nonzero_indices = row.nonzero()[1]\n",
    "feature_names = count_vect.get_feature_names_out()\n",
    "word = feature_names[nonzero_indices[0]]\n",
    "print(word)"
   ]
  },
  {
   "cell_type": "code",
   "execution_count": 102,
   "metadata": {},
   "outputs": [
    {
     "data": {
      "image/png": "[encoded data removed]",
      "text/plain": [
       "<Figure size 1200x800 with 2 Axes>"
      ]
     },
     "metadata": {},
     "output_type": "display_data"
    },
    {
     "data": {
      "text/plain": [
       "\"\\nThis visualization approach focuses on the most commonly occurring terms\\nin the document collection because they offer superior insights into the\\noverall data characteristics. By concentrating on high-frequency terms,\\nwe can identify meaningful patterns in word usage across documents,\\nrather than being overwhelmed by rare terms that appear in very few\\ndocuments. This selective approach provides a clearer representation\\nof the dataset's linguistic content and structure.\\n\""
      ]
     },
     "execution_count": 102,
     "metadata": {},
     "output_type": "execute_result"
    }
   ],
   "source": [
    "# Exercise 11\n",
    "\n",
    "# Calculate term frequencies across all documents\n",
    "term_frequencies = np.array(df_counts.sum(axis=0)).flatten()\n",
    "\n",
    "# Get indices of the top 20 most frequent terms\n",
    "top_20_indices = term_frequencies.argsort()[-20:]\n",
    "\n",
    "# Extract the vocabulary for these top 20 terms\n",
    "top_20_terms = count_vect.get_feature_names_out()[top_20_indices]\n",
    "\n",
    "# Create a sample matrix: first 20 documents × top 20 terms\n",
    "sample_matrix = df_counts[:20, top_20_indices].toarray()\n",
    "\n",
    "# Create DataFrame for visualization\n",
    "df_sample = pd.DataFrame(\n",
    "    sample_matrix, \n",
    "    columns=top_20_terms,\n",
    "    index=[f\"doc_{i}\" for i in range(20)]\n",
    ")\n",
    "\n",
    "# Create heatmap using seaborn\n",
    "plt.figure(figsize=(12, 8))\n",
    "sns.heatmap(\n",
    "    df_sample, \n",
    "    cmap=\"Blues\", \n",
    "    annot=True, \n",
    "    fmt=\"d\",\n",
    "    cbar_kws={'label': 'Term Frequency'}\n",
    ")\n",
    "\n",
    "plt.title('Term-Document Matrix Sample\\n(Top 20 Most Frequent Terms × First 20 Documents)')\n",
    "plt.xlabel('Terms (Top 20 Most Frequent)')\n",
    "plt.ylabel('Documents')\n",
    "plt.xticks(rotation=45, ha='right')\n",
    "plt.tight_layout()\n",
    "plt.show()\n",
    "\n",
    "\"\"\"\n",
    "This visualization approach focuses on the most commonly occurring terms\n",
    "in the document collection because they offer superior insights into the\n",
    "overall data characteristics. By concentrating on high-frequency terms,\n",
    "we can identify meaningful patterns in word usage across documents,\n",
    "rather than being overwhelmed by rare terms that appear in very few\n",
    "documents. This selective approach provides a clearer representation\n",
    "of the dataset's linguistic content and structure.\n",
    "\"\"\"\n"
   ]
  },
  {
   "cell_type": "code",
   "execution_count": 104,
   "metadata": {},
   "outputs": [
    {
     "data": {
      "application/vnd.plotly.v1+json": {
       "config": {
        "plotlyServerURL": "https://plot.ly"
       },
       "data": [
        {
         "hovertemplate": "Vocabulary Terms=%{x}<br>Occurrence Count=%{y}<extra></extra>",
         "legendgroup": "",
         "marker": {
          "color": "#636efa",
          "pattern": {
           "shape": ""
          }
         },
         "name": "",
         "orientation": "v",
         "showlegend": false,
         "textposition": "auto",
         "type": "bar",
         "x": [
          "00",
          "000",
          "01378",
          "02",
          "027",
          "03",
          "06",
          "08",
          "10",
          "100",
          "1000",
          "10000",
          "100k",
          "100x",
          "10k",
          "10ks",
          "10yr",
          "11",
          "116",
          "118",
          "12",
          "1242",
          "125",
          "12855584",
          "13",
          "14",
          "140",
          "145",
          "14th",
          "15",
          "150",
          "153",
          "15m",
          "16",
          "160",
          "17",
          "1700",
          "1728",
          "17th",
          "18",
          "186",
          "18630",
          "1870",
          "1934",
          "1945",
          "1947",
          "1953",
          "1961",
          "1969",
          "1973",
          "1974",
          "1981",
          "1992",
          "1999",
          "1k",
          "1m",
          "20",
          "200",
          "2007",
          "200k",
          "2011",
          "2012",
          "2017",
          "2021",
          "20211209",
          "2024",
          "2025",
          "2028",
          "2045",
          "208",
          "21",
          "22",
          "22rate",
          "23",
          "234",
          "235",
          "24",
          "25",
          "250",
          "25bps",
          "25k",
          "27",
          "28",
          "296895",
          "2c_books",
          "2c_wiki_recommendations",
          "2fapps",
          "2k",
          "2nd",
          "2s",
          "30",
          "300",
          "3000",
          "31",
          "31224",
          "31225",
          "31f",
          "33",
          "3306",
          "34",
          "35",
          "350",
          "36",
          "3a",
          "3d",
          "3f",
          "3k",
          "3oz8xzgfhartvh99yi",
          "40",
          "401k",
          "404",
          "41",
          "42",
          "4260",
          "4267",
          "4271",
          "4359",
          "45",
          "4500",
          "456",
          "46",
          "4675",
          "47",
          "4900",
          "4d",
          "4m",
          "4th",
          "4x",
          "50",
          "500",
          "5000",
          "50k",
          "50x",
          "52",
          "522",
          "540",
          "55",
          "58",
          "60",
          "600k",
          "6026762",
          "64",
          "65",
          "66",
          "6969",
          "6k",
          "6th",
          "70",
          "75",
          "7500",
          "77",
          "7k",
          "7s",
          "80",
          "81",
          "83",
          "87",
          "8882",
          "8883",
          "89",
          "90",
          "9000",
          "90k",
          "95",
          "97",
          "98",
          "98th",
          "99",
          "9k",
          "_are",
          "_so",
          "aapl",
          "ability",
          "able",
          "abolish",
          "about",
          "above",
          "absolute",
          "absolutely",
          "abuse",
          "abusing",
          "abysmal",
          "accelerate",
          "accept",
          "acceptable",
          "accepted",
          "access",
          "according",
          "account",
          "accretive",
          "acct",
          "accurate",
          "accurately",
          "aces",
          "acgl",
          "achieved",
          "achievement",
          "achieves",
          "achilles",
          "acn",
          "acquires",
          "acquisition",
          "acquisitions",
          "across",
          "act",
          "action",
          "actionable",
          "actions",
          "actively",
          "actors",
          "acts",
          "actual",
          "actually",
          "ad",
          "adausd",
          "add",
          "added",
          "addicted",
          "addicts",
          "adding",
          "addition",
          "additional",
          "addressed",
          "adjacent",
          "adjust",
          "admin",
          "administration",
          "administrations",
          "admins",
          "admit",
          "admitted",
          "adobe",
          "adp",
          "adult",
          "advanced",
          "advantage",
          "adversaries",
          "advertisements",
          "advice",
          "advise",
          "advised",
          "advisor",
          "advisors",
          "advocating",
          "aerc",
          "aerocontractors",
          "affect",
          "affected",
          "affects",
          "afford",
          "afraid",
          "africa",
          "after",
          "afternoon",
          "afterwards",
          "again",
          "against",
          "agane",
          "age",
          "aged",
          "agencies",
          "agenda",
          "agentnlp",
          "aggressively",
          "aggressor",
          "agnew",
          "ago",
          "agolf",
          "agree",
          "agreed",
          "agreement",
          "agriculture",
          "ahead",
          "ai",
          "aid",
          "aimed",
          "aiming",
          "ain",
          "air",
          "aircraft",
          "airline",
          "airlines",
          "airplane",
          "airplanes",
          "aka",
          "aladeen",
          "albeit",
          "alerts",
          "all",
          "allies",
          "allocating",
          "allocation",
          "allowed",
          "allowing",
          "allows",
          "ally",
          "almasria",
          "almost",
          "alone",
          "along"
         ],
         "xaxis": "x",
         "y": {
          "bdata": "BAYBAQEBAQEVCwEBAQEBAQEFAwEIAQIBAgEBAQEIAgEBAQEBAQECAgEDAQECAQEBAQEBAQEBAQEHAgEBAQEBAgECBgEBAQIEAQMBAQIHAwECAQIBAQEBAQIBCQEBAQEBAQECAQMCAgECAQEBBAEBAQICAQcBAQEBAQEBAQEBAQEMBAQBAQEBAQEBAgEBAgIBAQEBAgIBAgEBAwEBAQECAQUBAQEBAgEBAQEBAwIGAUQEAQMBAQEBAQIBAQEBAQEBAQEBAQEBAQMBAwEDAgEDAQEBAgULAQEBAQEBAwIEAQEDAgoBAQEBAQEBAQEBAQcBAQEDAgEDAwIBAQEBGwEBDgcBAQEBAQEBAQEMAQQBAQECBQEBAQIDAgEGAQEBAQECYQcBBgMBAwIDBgQD",
          "dtype": "i1"
         },
         "yaxis": "y"
        }
       ],
       "layout": {
        "barmode": "relative",
        "height": 600,
        "legend": {
         "tracegroupgap": 0
        },
        "template": {
         "data": {
          "bar": [
           {
            "error_x": {
             "color": "#2a3f5f"
            },
            "error_y": {
             "color": "#2a3f5f"
            },
            "marker": {
             "line": {
              "color": "#E5ECF6",
              "width": 0.5
             },
             "pattern": {
              "fillmode": "overlay",
              "size": 10,
              "solidity": 0.2
             }
            },
            "type": "bar"
           }
          ],
          "barpolar": [
           {
            "marker": {
             "line": {
              "color": "#E5ECF6",
              "width": 0.5
             },
             "pattern": {
              "fillmode": "overlay",
              "size": 10,
              "solidity": 0.2
             }
            },
            "type": "barpolar"
           }
          ],
          "carpet": [
           {
            "aaxis": {
             "endlinecolor": "#2a3f5f",
             "gridcolor": "white",
             "linecolor": "white",
             "minorgridcolor": "white",
             "startlinecolor": "#2a3f5f"
            },
            "baxis": {
             "endlinecolor": "#2a3f5f",
             "gridcolor": "white",
             "linecolor": "white",
             "minorgridcolor": "white",
             "startlinecolor": "#2a3f5f"
            },
            "type": "carpet"
           }
          ],
          "choropleth": [
           {
            "colorbar": {
             "outlinewidth": 0,
             "ticks": ""
            },
            "type": "choropleth"
           }
          ],
          "contour": [
           {
            "colorbar": {
             "outlinewidth": 0,
             "ticks": ""
            },
            "colorscale": [
             [
              0,
              "#0d0887"
             ],
             [
              0.1111111111111111,
              "#46039f"
             ],
             [
              0.2222222222222222,
              "#7201a8"
             ],
             [
              0.3333333333333333,
              "#9c179e"
             ],
             [
              0.4444444444444444,
              "#bd3786"
             ],
             [
              0.5555555555555556,
              "#d8576b"
             ],
             [
              0.6666666666666666,
              "#ed7953"
             ],
             [
              0.7777777777777778,
              "#fb9f3a"
             ],
             [
              0.8888888888888888,
              "#fdca26"
             ],
             [
              1,
              "#f0f921"
             ]
            ],
            "type": "contour"
           }
          ],
          "contourcarpet": [
           {
            "colorbar": {
             "outlinewidth": 0,
             "ticks": ""
            },
            "type": "contourcarpet"
           }
          ],
          "heatmap": [
           {
            "colorbar": {
             "outlinewidth": 0,
             "ticks": ""
            },
            "colorscale": [
             [
              0,
              "#0d0887"
             ],
             [
              0.1111111111111111,
              "#46039f"
             ],
             [
              0.2222222222222222,
              "#7201a8"
             ],
             [
              0.3333333333333333,
              "#9c179e"
             ],
             [
              0.4444444444444444,
              "#bd3786"
             ],
             [
              0.5555555555555556,
              "#d8576b"
             ],
             [
              0.6666666666666666,
              "#ed7953"
             ],
             [
              0.7777777777777778,
              "#fb9f3a"
             ],
             [
              0.8888888888888888,
              "#fdca26"
             ],
             [
              1,
              "#f0f921"
             ]
            ],
            "type": "heatmap"
           }
          ],
          "histogram": [
           {
            "marker": {
             "pattern": {
              "fillmode": "overlay",
              "size": 10,
              "solidity": 0.2
             }
            },
            "type": "histogram"
           }
          ],
          "histogram2d": [
           {
            "colorbar": {
             "outlinewidth": 0,
             "ticks": ""
            },
            "colorscale": [
             [
              0,
              "#0d0887"
             ],
             [
              0.1111111111111111,
              "#46039f"
             ],
             [
              0.2222222222222222,
              "#7201a8"
             ],
             [
              0.3333333333333333,
              "#9c179e"
             ],
             [
              0.4444444444444444,
              "#bd3786"
             ],
             [
              0.5555555555555556,
              "#d8576b"
             ],
             [
              0.6666666666666666,
              "#ed7953"
             ],
             [
              0.7777777777777778,
              "#fb9f3a"
             ],
             [
              0.8888888888888888,
              "#fdca26"
             ],
             [
              1,
              "#f0f921"
             ]
            ],
            "type": "histogram2d"
           }
          ],
          "histogram2dcontour": [
           {
            "colorbar": {
             "outlinewidth": 0,
             "ticks": ""
            },
            "colorscale": [
             [
              0,
              "#0d0887"
             ],
             [
              0.1111111111111111,
              "#46039f"
             ],
             [
              0.2222222222222222,
              "#7201a8"
             ],
             [
              0.3333333333333333,
              "#9c179e"
             ],
             [
              0.4444444444444444,
              "#bd3786"
             ],
             [
              0.5555555555555556,
              "#d8576b"
             ],
             [
              0.6666666666666666,
              "#ed7953"
             ],
             [
              0.7777777777777778,
              "#fb9f3a"
             ],
             [
              0.8888888888888888,
              "#fdca26"
             ],
             [
              1,
              "#f0f921"
             ]
            ],
            "type": "histogram2dcontour"
           }
          ],
          "mesh3d": [
           {
            "colorbar": {
             "outlinewidth": 0,
             "ticks": ""
            },
            "type": "mesh3d"
           }
          ],
          "parcoords": [
           {
            "line": {
             "colorbar": {
              "outlinewidth": 0,
              "ticks": ""
             }
            },
            "type": "parcoords"
           }
          ],
          "pie": [
           {
            "automargin": true,
            "type": "pie"
           }
          ],
          "scatter": [
           {
            "fillpattern": {
             "fillmode": "overlay",
             "size": 10,
             "solidity": 0.2
            },
            "type": "scatter"
           }
          ],
          "scatter3d": [
           {
            "line": {
             "colorbar": {
              "outlinewidth": 0,
              "ticks": ""
             }
            },
            "marker": {
             "colorbar": {
              "outlinewidth": 0,
              "ticks": ""
             }
            },
            "type": "scatter3d"
           }
          ],
          "scattercarpet": [
           {
            "marker": {
             "colorbar": {
              "outlinewidth": 0,
              "ticks": ""
             }
            },
            "type": "scattercarpet"
           }
          ],
          "scattergeo": [
           {
            "marker": {
             "colorbar": {
              "outlinewidth": 0,
              "ticks": ""
             }
            },
            "type": "scattergeo"
           }
          ],
          "scattergl": [
           {
            "marker": {
             "colorbar": {
              "outlinewidth": 0,
              "ticks": ""
             }
            },
            "type": "scattergl"
           }
          ],
          "scattermap": [
           {
            "marker": {
             "colorbar": {
              "outlinewidth": 0,
              "ticks": ""
             }
            },
            "type": "scattermap"
           }
          ],
          "scattermapbox": [
           {
            "marker": {
             "colorbar": {
              "outlinewidth": 0,
              "ticks": ""
             }
            },
            "type": "scattermapbox"
           }
          ],
          "scatterpolar": [
           {
            "marker": {
             "colorbar": {
              "outlinewidth": 0,
              "ticks": ""
             }
            },
            "type": "scatterpolar"
           }
          ],
          "scatterpolargl": [
           {
            "marker": {
             "colorbar": {
              "outlinewidth": 0,
              "ticks": ""
             }
            },
            "type": "scatterpolargl"
           }
          ],
          "scatterternary": [
           {
            "marker": {
             "colorbar": {
              "outlinewidth": 0,
              "ticks": ""
             }
            },
            "type": "scatterternary"
           }
          ],
          "surface": [
           {
            "colorbar": {
             "outlinewidth": 0,
             "ticks": ""
            },
            "colorscale": [
             [
              0,
              "#0d0887"
             ],
             [
              0.1111111111111111,
              "#46039f"
             ],
             [
              0.2222222222222222,
              "#7201a8"
             ],
             [
              0.3333333333333333,
              "#9c179e"
             ],
             [
              0.4444444444444444,
              "#bd3786"
             ],
             [
              0.5555555555555556,
              "#d8576b"
             ],
             [
              0.6666666666666666,
              "#ed7953"
             ],
             [
              0.7777777777777778,
              "#fb9f3a"
             ],
             [
              0.8888888888888888,
              "#fdca26"
             ],
             [
              1,
              "#f0f921"
             ]
            ],
            "type": "surface"
           }
          ],
          "table": [
           {
            "cells": {
             "fill": {
              "color": "#EBF0F8"
             },
             "line": {
              "color": "white"
             }
            },
            "header": {
             "fill": {
              "color": "#C8D4E3"
             },
             "line": {
              "color": "white"
             }
            },
            "type": "table"
           }
          ]
         },
         "layout": {
          "annotationdefaults": {
           "arrowcolor": "#2a3f5f",
           "arrowhead": 0,
           "arrowwidth": 1
          },
          "autotypenumbers": "strict",
          "coloraxis": {
           "colorbar": {
            "outlinewidth": 0,
            "ticks": ""
           }
          },
          "colorscale": {
           "diverging": [
            [
             0,
             "#8e0152"
            ],
            [
             0.1,
             "#c51b7d"
            ],
            [
             0.2,
             "#de77ae"
            ],
            [
             0.3,
             "#f1b6da"
            ],
            [
             0.4,
             "#fde0ef"
            ],
            [
             0.5,
             "#f7f7f7"
            ],
            [
             0.6,
             "#e6f5d0"
            ],
            [
             0.7,
             "#b8e186"
            ],
            [
             0.8,
             "#7fbc41"
            ],
            [
             0.9,
             "#4d9221"
            ],
            [
             1,
             "#276419"
            ]
           ],
           "sequential": [
            [
             0,
             "#0d0887"
            ],
            [
             0.1111111111111111,
             "#46039f"
            ],
            [
             0.2222222222222222,
             "#7201a8"
            ],
            [
             0.3333333333333333,
             "#9c179e"
            ],
            [
             0.4444444444444444,
             "#bd3786"
            ],
            [
             0.5555555555555556,
             "#d8576b"
            ],
            [
             0.6666666666666666,
             "#ed7953"
            ],
            [
             0.7777777777777778,
             "#fb9f3a"
            ],
            [
             0.8888888888888888,
             "#fdca26"
            ],
            [
             1,
             "#f0f921"
            ]
           ],
           "sequentialminus": [
            [
             0,
             "#0d0887"
            ],
            [
             0.1111111111111111,
             "#46039f"
            ],
            [
             0.2222222222222222,
             "#7201a8"
            ],
            [
             0.3333333333333333,
             "#9c179e"
            ],
            [
             0.4444444444444444,
             "#bd3786"
            ],
            [
             0.5555555555555556,
             "#d8576b"
            ],
            [
             0.6666666666666666,
             "#ed7953"
            ],
            [
             0.7777777777777778,
             "#fb9f3a"
            ],
            [
             0.8888888888888888,
             "#fdca26"
            ],
            [
             1,
             "#f0f921"
            ]
           ]
          },
          "colorway": [
           "#636efa",
           "#EF553B",
           "#00cc96",
           "#ab63fa",
           "#FFA15A",
           "#19d3f3",
           "#FF6692",
           "#B6E880",
           "#FF97FF",
           "#FECB52"
          ],
          "font": {
           "color": "#2a3f5f"
          },
          "geo": {
           "bgcolor": "white",
           "lakecolor": "white",
           "landcolor": "#E5ECF6",
           "showlakes": true,
           "showland": true,
           "subunitcolor": "white"
          },
          "hoverlabel": {
           "align": "left"
          },
          "hovermode": "closest",
          "mapbox": {
           "style": "light"
          },
          "paper_bgcolor": "white",
          "plot_bgcolor": "#E5ECF6",
          "polar": {
           "angularaxis": {
            "gridcolor": "white",
            "linecolor": "white",
            "ticks": ""
           },
           "bgcolor": "#E5ECF6",
           "radialaxis": {
            "gridcolor": "white",
            "linecolor": "white",
            "ticks": ""
           }
          },
          "scene": {
           "xaxis": {
            "backgroundcolor": "#E5ECF6",
            "gridcolor": "white",
            "gridwidth": 2,
            "linecolor": "white",
            "showbackground": true,
            "ticks": "",
            "zerolinecolor": "white"
           },
           "yaxis": {
            "backgroundcolor": "#E5ECF6",
            "gridcolor": "white",
            "gridwidth": 2,
            "linecolor": "white",
            "showbackground": true,
            "ticks": "",
            "zerolinecolor": "white"
           },
           "zaxis": {
            "backgroundcolor": "#E5ECF6",
            "gridcolor": "white",
            "gridwidth": 2,
            "linecolor": "white",
            "showbackground": true,
            "ticks": "",
            "zerolinecolor": "white"
           }
          },
          "shapedefaults": {
           "line": {
            "color": "#2a3f5f"
           }
          },
          "ternary": {
           "aaxis": {
            "gridcolor": "white",
            "linecolor": "white",
            "ticks": ""
           },
           "baxis": {
            "gridcolor": "white",
            "linecolor": "white",
            "ticks": ""
           },
           "bgcolor": "#E5ECF6",
           "caxis": {
            "gridcolor": "white",
            "linecolor": "white",
            "ticks": ""
           }
          },
          "title": {
           "x": 0.05
          },
          "xaxis": {
           "automargin": true,
           "gridcolor": "white",
           "linecolor": "white",
           "ticks": "",
           "title": {
            "standoff": 15
           },
           "zerolinecolor": "white",
           "zerolinewidth": 2
          },
          "yaxis": {
           "automargin": true,
           "gridcolor": "white",
           "linecolor": "white",
           "ticks": "",
           "title": {
            "standoff": 15
           },
           "zerolinecolor": "white",
           "zerolinewidth": 2
          }
         }
        },
        "title": {
         "text": "Frequency Distribution of Top 300 Vocabulary Terms"
        },
        "width": 1200,
        "xaxis": {
         "anchor": "y",
         "domain": [
          0,
          1
         ],
         "tickangle": 90,
         "title": {
          "text": "Vocabulary Terms"
         }
        },
        "yaxis": {
         "anchor": "x",
         "domain": [
          0,
          1
         ],
         "title": {
          "text": "Occurrence Count"
         }
        }
       }
      }
     },
     "metadata": {},
     "output_type": "display_data"
    }
   ],
   "source": [
    "# Exercise 12\n",
    "import plotly.express as px\n",
    "\n",
    "# Calculate word occurrence counts across the entire document collection\n",
    "word_counts = np.array(df_counts.sum(axis=0)).flatten()\n",
    "\n",
    "# Choose the first 300 vocabulary items (adjustable to 50/100 for better performance)\n",
    "vocabulary_items = count_vect.get_feature_names_out()[:300]\n",
    "word_frequencies = word_counts[:300]\n",
    "\n",
    "# Generate an interactive frequency visualization\n",
    "chart = px.bar(\n",
    "    x=vocabulary_items,\n",
    "    y=word_frequencies,\n",
    "    labels={'x': \"Vocabulary Terms\", 'y': \"Occurrence Count\"},\n",
    "    title=\"Frequency Distribution of Top 300 Vocabulary Terms\",\n",
    ")\n",
    "\n",
    "# Improve label readability by rotating them\n",
    "chart.update_layout(xaxis_tickangle=90, width=1200, height=600)\n",
    "\n",
    "chart.show()"
   ]
  },
  {
   "cell_type": "code",
   "execution_count": 105,
   "metadata": {},
   "outputs": [
    {
     "data": {
      "application/vnd.plotly.v1+json": {
       "config": {
        "plotlyServerURL": "https://plot.ly"
       },
       "data": [
        {
         "hovertemplate": "Vocabulary Items=%{x}<br>Occurrence Count=%{y}<extra></extra>",
         "legendgroup": "",
         "marker": {
          "color": "#636efa",
          "pattern": {
           "shape": ""
          }
         },
         "name": "",
         "orientation": "v",
         "showlegend": false,
         "textposition": "auto",
         "type": "bar",
         "x": [
          "do",
          "by",
          "up",
          "re",
          "from",
          "no",
          "now",
          "there",
          "more",
          "about",
          "china",
          "their",
          "market",
          "has",
          "can",
          "we",
          "or",
          "like",
          "what",
          "my",
          "at",
          "trump",
          "was",
          "just",
          "us",
          "have",
          "all",
          "so",
          "not",
          "but",
          "as",
          "if",
          "with",
          "will",
          "be",
          "he",
          "they",
          "are",
          "on",
          "you",
          "this",
          "for",
          "that",
          "in",
          "of",
          "it",
          "is",
          "and",
          "to",
          "the"
         ],
         "xaxis": "x",
         "y": {
          "bdata": "NQA2ADcAOQA7AD0APgA+AEMARABIAEgASgBMAFEAUQBRAFMAWABZAFwAXABeAF8AYABhAGEAZwBnAGwAbwB3AHwAfwCEAIQAlgCbAKcAwwDRANMA3gAWASsBUgGCAdcBKgJsAw==",
          "dtype": "i2"
         },
         "yaxis": "y"
        }
       ],
       "layout": {
        "barmode": "relative",
        "height": 500,
        "legend": {
         "tracegroupgap": 0
        },
        "template": {
         "data": {
          "bar": [
           {
            "error_x": {
             "color": "#2a3f5f"
            },
            "error_y": {
             "color": "#2a3f5f"
            },
            "marker": {
             "line": {
              "color": "#E5ECF6",
              "width": 0.5
             },
             "pattern": {
              "fillmode": "overlay",
              "size": 10,
              "solidity": 0.2
             }
            },
            "type": "bar"
           }
          ],
          "barpolar": [
           {
            "marker": {
             "line": {
              "color": "#E5ECF6",
              "width": 0.5
             },
             "pattern": {
              "fillmode": "overlay",
              "size": 10,
              "solidity": 0.2
             }
            },
            "type": "barpolar"
           }
          ],
          "carpet": [
           {
            "aaxis": {
             "endlinecolor": "#2a3f5f",
             "gridcolor": "white",
             "linecolor": "white",
             "minorgridcolor": "white",
             "startlinecolor": "#2a3f5f"
            },
            "baxis": {
             "endlinecolor": "#2a3f5f",
             "gridcolor": "white",
             "linecolor": "white",
             "minorgridcolor": "white",
             "startlinecolor": "#2a3f5f"
            },
            "type": "carpet"
           }
          ],
          "choropleth": [
           {
            "colorbar": {
             "outlinewidth": 0,
             "ticks": ""
            },
            "type": "choropleth"
           }
          ],
          "contour": [
           {
            "colorbar": {
             "outlinewidth": 0,
             "ticks": ""
            },
            "colorscale": [
             [
              0,
              "#0d0887"
             ],
             [
              0.1111111111111111,
              "#46039f"
             ],
             [
              0.2222222222222222,
              "#7201a8"
             ],
             [
              0.3333333333333333,
              "#9c179e"
             ],
             [
              0.4444444444444444,
              "#bd3786"
             ],
             [
              0.5555555555555556,
              "#d8576b"
             ],
             [
              0.6666666666666666,
              "#ed7953"
             ],
             [
              0.7777777777777778,
              "#fb9f3a"
             ],
             [
              0.8888888888888888,
              "#fdca26"
             ],
             [
              1,
              "#f0f921"
             ]
            ],
            "type": "contour"
           }
          ],
          "contourcarpet": [
           {
            "colorbar": {
             "outlinewidth": 0,
             "ticks": ""
            },
            "type": "contourcarpet"
           }
          ],
          "heatmap": [
           {
            "colorbar": {
             "outlinewidth": 0,
             "ticks": ""
            },
            "colorscale": [
             [
              0,
              "#0d0887"
             ],
             [
              0.1111111111111111,
              "#46039f"
             ],
             [
              0.2222222222222222,
              "#7201a8"
             ],
             [
              0.3333333333333333,
              "#9c179e"
             ],
             [
              0.4444444444444444,
              "#bd3786"
             ],
             [
              0.5555555555555556,
              "#d8576b"
             ],
             [
              0.6666666666666666,
              "#ed7953"
             ],
             [
              0.7777777777777778,
              "#fb9f3a"
             ],
             [
              0.8888888888888888,
              "#fdca26"
             ],
             [
              1,
              "#f0f921"
             ]
            ],
            "type": "heatmap"
           }
          ],
          "histogram": [
           {
            "marker": {
             "pattern": {
              "fillmode": "overlay",
              "size": 10,
              "solidity": 0.2
             }
            },
            "type": "histogram"
           }
          ],
          "histogram2d": [
           {
            "colorbar": {
             "outlinewidth": 0,
             "ticks": ""
            },
            "colorscale": [
             [
              0,
              "#0d0887"
             ],
             [
              0.1111111111111111,
              "#46039f"
             ],
             [
              0.2222222222222222,
              "#7201a8"
             ],
             [
              0.3333333333333333,
              "#9c179e"
             ],
             [
              0.4444444444444444,
              "#bd3786"
             ],
             [
              0.5555555555555556,
              "#d8576b"
             ],
             [
              0.6666666666666666,
              "#ed7953"
             ],
             [
              0.7777777777777778,
              "#fb9f3a"
             ],
             [
              0.8888888888888888,
              "#fdca26"
             ],
             [
              1,
              "#f0f921"
             ]
            ],
            "type": "histogram2d"
           }
          ],
          "histogram2dcontour": [
           {
            "colorbar": {
             "outlinewidth": 0,
             "ticks": ""
            },
            "colorscale": [
             [
              0,
              "#0d0887"
             ],
             [
              0.1111111111111111,
              "#46039f"
             ],
             [
              0.2222222222222222,
              "#7201a8"
             ],
             [
              0.3333333333333333,
              "#9c179e"
             ],
             [
              0.4444444444444444,
              "#bd3786"
             ],
             [
              0.5555555555555556,
              "#d8576b"
             ],
             [
              0.6666666666666666,
              "#ed7953"
             ],
             [
              0.7777777777777778,
              "#fb9f3a"
             ],
             [
              0.8888888888888888,
              "#fdca26"
             ],
             [
              1,
              "#f0f921"
             ]
            ],
            "type": "histogram2dcontour"
           }
          ],
          "mesh3d": [
           {
            "colorbar": {
             "outlinewidth": 0,
             "ticks": ""
            },
            "type": "mesh3d"
           }
          ],
          "parcoords": [
           {
            "line": {
             "colorbar": {
              "outlinewidth": 0,
              "ticks": ""
             }
            },
            "type": "parcoords"
           }
          ],
          "pie": [
           {
            "automargin": true,
            "type": "pie"
           }
          ],
          "scatter": [
           {
            "fillpattern": {
             "fillmode": "overlay",
             "size": 10,
             "solidity": 0.2
            },
            "type": "scatter"
           }
          ],
          "scatter3d": [
           {
            "line": {
             "colorbar": {
              "outlinewidth": 0,
              "ticks": ""
             }
            },
            "marker": {
             "colorbar": {
              "outlinewidth": 0,
              "ticks": ""
             }
            },
            "type": "scatter3d"
           }
          ],
          "scattercarpet": [
           {
            "marker": {
             "colorbar": {
              "outlinewidth": 0,
              "ticks": ""
             }
            },
            "type": "scattercarpet"
           }
          ],
          "scattergeo": [
           {
            "marker": {
             "colorbar": {
              "outlinewidth": 0,
              "ticks": ""
             }
            },
            "type": "scattergeo"
           }
          ],
          "scattergl": [
           {
            "marker": {
             "colorbar": {
              "outlinewidth": 0,
              "ticks": ""
             }
            },
            "type": "scattergl"
           }
          ],
          "scattermap": [
           {
            "marker": {
             "colorbar": {
              "outlinewidth": 0,
              "ticks": ""
             }
            },
            "type": "scattermap"
           }
          ],
          "scattermapbox": [
           {
            "marker": {
             "colorbar": {
              "outlinewidth": 0,
              "ticks": ""
             }
            },
            "type": "scattermapbox"
           }
          ],
          "scatterpolar": [
           {
            "marker": {
             "colorbar": {
              "outlinewidth": 0,
              "ticks": ""
             }
            },
            "type": "scatterpolar"
           }
          ],
          "scatterpolargl": [
           {
            "marker": {
             "colorbar": {
              "outlinewidth": 0,
              "ticks": ""
             }
            },
            "type": "scatterpolargl"
           }
          ],
          "scatterternary": [
           {
            "marker": {
             "colorbar": {
              "outlinewidth": 0,
              "ticks": ""
             }
            },
            "type": "scatterternary"
           }
          ],
          "surface": [
           {
            "colorbar": {
             "outlinewidth": 0,
             "ticks": ""
            },
            "colorscale": [
             [
              0,
              "#0d0887"
             ],
             [
              0.1111111111111111,
              "#46039f"
             ],
             [
              0.2222222222222222,
              "#7201a8"
             ],
             [
              0.3333333333333333,
              "#9c179e"
             ],
             [
              0.4444444444444444,
              "#bd3786"
             ],
             [
              0.5555555555555556,
              "#d8576b"
             ],
             [
              0.6666666666666666,
              "#ed7953"
             ],
             [
              0.7777777777777778,
              "#fb9f3a"
             ],
             [
              0.8888888888888888,
              "#fdca26"
             ],
             [
              1,
              "#f0f921"
             ]
            ],
            "type": "surface"
           }
          ],
          "table": [
           {
            "cells": {
             "fill": {
              "color": "#EBF0F8"
             },
             "line": {
              "color": "white"
             }
            },
            "header": {
             "fill": {
              "color": "#C8D4E3"
             },
             "line": {
              "color": "white"
             }
            },
            "type": "table"
           }
          ]
         },
         "layout": {
          "annotationdefaults": {
           "arrowcolor": "#2a3f5f",
           "arrowhead": 0,
           "arrowwidth": 1
          },
          "autotypenumbers": "strict",
          "coloraxis": {
           "colorbar": {
            "outlinewidth": 0,
            "ticks": ""
           }
          },
          "colorscale": {
           "diverging": [
            [
             0,
             "#8e0152"
            ],
            [
             0.1,
             "#c51b7d"
            ],
            [
             0.2,
             "#de77ae"
            ],
            [
             0.3,
             "#f1b6da"
            ],
            [
             0.4,
             "#fde0ef"
            ],
            [
             0.5,
             "#f7f7f7"
            ],
            [
             0.6,
             "#e6f5d0"
            ],
            [
             0.7,
             "#b8e186"
            ],
            [
             0.8,
             "#7fbc41"
            ],
            [
             0.9,
             "#4d9221"
            ],
            [
             1,
             "#276419"
            ]
           ],
           "sequential": [
            [
             0,
             "#0d0887"
            ],
            [
             0.1111111111111111,
             "#46039f"
            ],
            [
             0.2222222222222222,
             "#7201a8"
            ],
            [
             0.3333333333333333,
             "#9c179e"
            ],
            [
             0.4444444444444444,
             "#bd3786"
            ],
            [
             0.5555555555555556,
             "#d8576b"
            ],
            [
             0.6666666666666666,
             "#ed7953"
            ],
            [
             0.7777777777777778,
             "#fb9f3a"
            ],
            [
             0.8888888888888888,
             "#fdca26"
            ],
            [
             1,
             "#f0f921"
            ]
           ],
           "sequentialminus": [
            [
             0,
             "#0d0887"
            ],
            [
             0.1111111111111111,
             "#46039f"
            ],
            [
             0.2222222222222222,
             "#7201a8"
            ],
            [
             0.3333333333333333,
             "#9c179e"
            ],
            [
             0.4444444444444444,
             "#bd3786"
            ],
            [
             0.5555555555555556,
             "#d8576b"
            ],
            [
             0.6666666666666666,
             "#ed7953"
            ],
            [
             0.7777777777777778,
             "#fb9f3a"
            ],
            [
             0.8888888888888888,
             "#fdca26"
            ],
            [
             1,
             "#f0f921"
            ]
           ]
          },
          "colorway": [
           "#636efa",
           "#EF553B",
           "#00cc96",
           "#ab63fa",
           "#FFA15A",
           "#19d3f3",
           "#FF6692",
           "#B6E880",
           "#FF97FF",
           "#FECB52"
          ],
          "font": {
           "color": "#2a3f5f"
          },
          "geo": {
           "bgcolor": "white",
           "lakecolor": "white",
           "landcolor": "#E5ECF6",
           "showlakes": true,
           "showland": true,
           "subunitcolor": "white"
          },
          "hoverlabel": {
           "align": "left"
          },
          "hovermode": "closest",
          "mapbox": {
           "style": "light"
          },
          "paper_bgcolor": "white",
          "plot_bgcolor": "#E5ECF6",
          "polar": {
           "angularaxis": {
            "gridcolor": "white",
            "linecolor": "white",
            "ticks": ""
           },
           "bgcolor": "#E5ECF6",
           "radialaxis": {
            "gridcolor": "white",
            "linecolor": "white",
            "ticks": ""
           }
          },
          "scene": {
           "xaxis": {
            "backgroundcolor": "#E5ECF6",
            "gridcolor": "white",
            "gridwidth": 2,
            "linecolor": "white",
            "showbackground": true,
            "ticks": "",
            "zerolinecolor": "white"
           },
           "yaxis": {
            "backgroundcolor": "#E5ECF6",
            "gridcolor": "white",
            "gridwidth": 2,
            "linecolor": "white",
            "showbackground": true,
            "ticks": "",
            "zerolinecolor": "white"
           },
           "zaxis": {
            "backgroundcolor": "#E5ECF6",
            "gridcolor": "white",
            "gridwidth": 2,
            "linecolor": "white",
            "showbackground": true,
            "ticks": "",
            "zerolinecolor": "white"
           }
          },
          "shapedefaults": {
           "line": {
            "color": "#2a3f5f"
           }
          },
          "ternary": {
           "aaxis": {
            "gridcolor": "white",
            "linecolor": "white",
            "ticks": ""
           },
           "baxis": {
            "gridcolor": "white",
            "linecolor": "white",
            "ticks": ""
           },
           "bgcolor": "#E5ECF6",
           "caxis": {
            "gridcolor": "white",
            "linecolor": "white",
            "ticks": ""
           }
          },
          "title": {
           "x": 0.05
          },
          "xaxis": {
           "automargin": true,
           "gridcolor": "white",
           "linecolor": "white",
           "ticks": "",
           "title": {
            "standoff": 15
           },
           "zerolinecolor": "white",
           "zerolinewidth": 2
          },
          "yaxis": {
           "automargin": true,
           "gridcolor": "white",
           "linecolor": "white",
           "ticks": "",
           "title": {
            "standoff": 15
           },
           "zerolinecolor": "white",
           "zerolinewidth": 2
          }
         }
        },
        "title": {
         "text": "Most Frequent 50 Terms in Document Collection"
        },
        "width": 900,
        "xaxis": {
         "anchor": "y",
         "domain": [
          0,
          1
         ],
         "tickangle": 90,
         "title": {
          "text": "Vocabulary Items"
         }
        },
        "yaxis": {
         "anchor": "x",
         "domain": [
          0,
          1
         ],
         "title": {
          "text": "Occurrence Count"
         }
        }
       }
      }
     },
     "metadata": {},
     "output_type": "display_data"
    }
   ],
   "source": [
    "# Exercise 13\n",
    "word_occurrence_counts = np.array(df_counts.sum(axis=0)).flatten()\n",
    "\n",
    "selected_count = 50\n",
    "most_common_indices = word_occurrence_counts.argsort()[-selected_count:]  # positions of top N items\n",
    "most_common_words = count_vect.get_feature_names_out()[most_common_indices]\n",
    "word_counts_for_selection = word_occurrence_counts[most_common_indices]\n",
    "\n",
    "import plotly.express as px\n",
    "\n",
    "visualization = px.bar(\n",
    "    x=most_common_words,\n",
    "    y=word_counts_for_selection,\n",
    "    labels={'x': \"Vocabulary Items\", 'y': \"Occurrence Count\"},\n",
    "    title=f\"Most Frequent {selected_count} Terms in Document Collection\"\n",
    ")\n",
    "visualization.update_layout(xaxis_tickangle=90, width=900, height=500)\n",
    "visualization.show()\n"
   ]
  },
  {
   "cell_type": "code",
   "execution_count": 109,
   "metadata": {},
   "outputs": [
    {
     "data": {
      "image/png": "[encoded data removed]",
      "text/plain": [
       "<Figure size 1000x600 with 1 Axes>"
      ]
     },
     "metadata": {},
     "output_type": "display_data"
    }
   ],
   "source": [
    "# Exercise 14\n",
    "# Calculate word occurrence counts across all documents\n",
    "word_counts = np.array(df_counts.sum(axis=0)).flatten()\n",
    "\n",
    "# Arrange in descending order of frequency\n",
    "descending_counts = np.sort(word_counts)[::-1]\n",
    "\n",
    "# Create long tail distribution visualization\n",
    "plt.figure(figsize=(10,6))\n",
    "plt.plot(descending_counts, color=\"navy\")\n",
    "plt.fill_between(range(len(descending_counts)), descending_counts, alpha=0.3, color=\"orange\")\n",
    "\n",
    "plt.yscale(\"log\")  # logarithmic scale reveals the long tail pattern more clearly\n",
    "plt.title(\"Long Tail Distribution Pattern of Word Frequencies\")\n",
    "plt.xlabel(\"Vocabulary Terms (ordered by frequency rank)\")\n",
    "plt.ylabel(\"Occurrence Count (logarithmic scale)\")\n",
    "plt.show()"
   ]
  },
  {
   "cell_type": "code",
   "execution_count": 111,
   "metadata": {},
   "outputs": [
    {
     "data": {
      "image/png": "[encoded data removed]",
      "text/plain": [
       "<Figure size 1200x600 with 2 Axes>"
      ]
     },
     "metadata": {},
     "output_type": "display_data"
    },
    {
     "data": {
      "text/plain": [
       "'\\nThe original distribution is heavily skewed by a small number of extremely common words,\\nmaking it difficult to observe the extended tail of less common vocabulary items.\\nThe logarithmically transformed visualization compresses the high-frequency values\\nand amplifies the low-frequency values, exposing greater detail in the long tail region.\\n'"
      ]
     },
     "execution_count": 111,
     "metadata": {},
     "output_type": "execute_result"
    }
   ],
   "source": [
    "# Exercise 15\n",
    "# Calculate word occurrence counts across all documents\n",
    "word_counts = np.array(df_counts.sum(axis=0)).flatten()\n",
    "descending_counts = np.sort(word_counts)[::-1]\n",
    "\n",
    "# Apply logarithmic transformation (log1p prevents log(0) problems)\n",
    "log_transformed_counts = np.log1p(descending_counts)\n",
    "\n",
    "# Create side-by-side comparison visualization\n",
    "plt.figure(figsize=(12,6))\n",
    "\n",
    "plt.subplot(1,2,1)\n",
    "plt.plot(descending_counts, color=\"navy\")\n",
    "plt.title(\"Original Word Frequencies (Long Tail Pattern)\")\n",
    "plt.xlabel(\"Vocabulary Terms (ranked by frequency)\")\n",
    "plt.ylabel(\"Occurrence Count\")\n",
    "\n",
    "plt.subplot(1,2,2)\n",
    "plt.plot(log_transformed_counts, color=\"darkred\")\n",
    "plt.title(\"Logarithmically Transformed Word Frequencies\")\n",
    "plt.xlabel(\"Vocabulary Terms (ranked by frequency)\")\n",
    "plt.ylabel(\"log(1 + Occurrence Count)\")\n",
    "\n",
    "plt.tight_layout()\n",
    "plt.show()\n",
    "\n",
    "\"\"\"\n",
    "The original distribution is heavily skewed by a small number of extremely common words,\n",
    "making it difficult to observe the extended tail of less common vocabulary items.\n",
    "The logarithmically transformed visualization compresses the high-frequency values\n",
    "and amplifies the low-frequency values, exposing greater detail in the long tail region.\n",
    "\"\"\""
   ]
  },
  {
   "cell_type": "markdown",
   "metadata": {},
   "source": [
    "### Correlation Heatmap"
   ]
  },
  {
   "cell_type": "code",
   "execution_count": 113,
   "metadata": {},
   "outputs": [],
   "source": [
    "# Create a new feature\n",
    "df[\"text_length\"] = df[\"text\"].str.len()"
   ]
  },
  {
   "cell_type": "code",
   "execution_count": 114,
   "metadata": {},
   "outputs": [
    {
     "data": {
      "image/png": "[encoded data removed]",
      "text/plain": [
       "<Figure size 1000x800 with 2 Axes>"
      ]
     },
     "metadata": {},
     "output_type": "display_data"
    }
   ],
   "source": [
    "# Create correlation analysis for numerical features\n",
    "numerical_features = ['upvotes', 'subjectivity', 'polarity', 'text_length']\n",
    "\n",
    "# Create correlation matrix\n",
    "correlation_matrix = df[numerical_features].corr()\n",
    "\n",
    "# Create heatmap\n",
    "plt.figure(figsize=(10, 8))\n",
    "sns.heatmap(correlation_matrix, annot=True, cmap='coolwarm', center=0,\n",
    "            square=True, linewidths=0.5)\n",
    "plt.title('Correlation Matrix of Numerical Features', fontsize=16, fontweight='bold')\n",
    "plt.tight_layout()\n",
    "plt.show()"
   ]
  },
  {
   "cell_type": "markdown",
   "metadata": {},
   "source": [
    "All pairwise correlations are tiny (≈ −0.08 to +0.15), so there’s no strong linear link between upvotes and sentiment (polarity/subjectivity) or text length, and only a weak hint that longer texts are slightly more subjective (~0.15). That suggests (1) effects, if any, are small; (2) relationships may be non-linear or masked by confounders (subreddit, time of day, ticker, author karma)"
   ]
  },
  {
   "cell_type": "markdown",
   "metadata": {},
   "source": [
    "### Sentiment Distribution by Subreddit"
   ]
  },
  {
   "cell_type": "code",
   "execution_count": 115,
   "metadata": {},
   "outputs": [
    {
     "data": {
      "text/plain": [
       "<Figure size 1200x800 with 0 Axes>"
      ]
     },
     "metadata": {},
     "output_type": "display_data"
    },
    {
     "data": {
      "image/png": "[encoded data removed]",
      "text/plain": [
       "<Figure size 1200x800 with 1 Axes>"
      ]
     },
     "metadata": {},
     "output_type": "display_data"
    }
   ],
   "source": [
    "# Create a grouped bar chart showing sentiment distribution by subreddit\n",
    "plt.figure(figsize=(12, 8))\n",
    "\n",
    "# Create cross-tabulation\n",
    "sentiment_subreddit = pd.crosstab(df['subreddit'], df['sentiment'])\n",
    "sentiment_subreddit.plot(kind='bar', stacked=True, figsize=(12, 8))\n",
    "\n",
    "plt.title('Sentiment Distribution by Subreddit', fontsize=16, fontweight='bold')\n",
    "plt.xlabel('Subreddit', fontsize=12)\n",
    "plt.ylabel('Number of Posts', fontsize=12)\n",
    "plt.legend(title='Sentiment', bbox_to_anchor=(1.05, 1), loc='upper left')\n",
    "plt.xticks(rotation=45)\n",
    "plt.tight_layout()\n",
    "plt.show()"
   ]
  },
  {
   "cell_type": "markdown",
   "metadata": {},
   "source": [
    "Across all four subreddits the mood skews net positive, with r/stocks and r/StockMarket carrying the most volume and the largest counts of positive posts, r/stocksbuytoday showing the lowest negativity and a neutral-heavy, news-like tone, and r/wallstreetbets displaying a balanced split between neutral and positive with relatively few negatives; in short, bullish sentiment dominates—especially in r/stocks—while r/stocksbuytoday offers the calmest signal, and r/wallstreetbets remains upbeat but punchy; note this is a snapshot based on post counts (not intensity) and can shift with market news."
   ]
  },
  {
   "cell_type": "markdown",
   "metadata": {},
   "source": [
    "### Text Length Analysis"
   ]
  },
  {
   "cell_type": "code",
   "execution_count": 120,
   "metadata": {},
   "outputs": [
    {
     "data": {
      "text/plain": [
       "<Figure size 1200x800 with 0 Axes>"
      ]
     },
     "metadata": {},
     "output_type": "display_data"
    },
    {
     "data": {
      "image/png": "[encoded data removed]",
      "text/plain": [
       "<Figure size 1200x800 with 1 Axes>"
      ]
     },
     "metadata": {},
     "output_type": "display_data"
    },
    {
     "name": "stdout",
     "output_type": "stream",
     "text": [
      "Average Text Length by Subreddit and Sentiment:\n",
      "sentiment          -1.0   0.0    1.0\n",
      "subreddit                           \n",
      "StockMarket       145.8  57.9  152.9\n",
      "stocks            178.1  71.5  287.6\n",
      "stockstobuytoday  145.8  58.5  383.5\n",
      "wallstreetbets     86.5  46.9  128.6\n"
     ]
    }
   ],
   "source": [
    "# Calculate average text length by sentiment and subreddit\n",
    "avg_length = df.groupby(['subreddit', 'sentiment'])['text_length'].mean().unstack()\n",
    "\n",
    "# Create the visualization\n",
    "plt.figure(figsize=(12, 8))\n",
    "avg_length.plot(kind='bar', figsize=(12, 8))\n",
    "\n",
    "plt.title('Average Text Length by Subreddit and Sentiment', fontsize=16, fontweight='bold')\n",
    "plt.xlabel('Subreddit', fontsize=12)\n",
    "plt.ylabel('Average Text Length (characters)', fontsize=12)\n",
    "plt.legend(title='Sentiment', labels=['Negative', 'Neutral', 'Positive'])\n",
    "plt.xticks(rotation=45)\n",
    "plt.grid(axis='y', alpha=0.3)\n",
    "plt.tight_layout()\n",
    "plt.show()\n",
    "\n",
    "# Print the actual values for reference\n",
    "print(\"Average Text Length by Subreddit and Sentiment:\")\n",
    "print(avg_length.round(1))"
   ]
  },
  {
   "cell_type": "markdown",
   "metadata": {},
   "source": [
    "Positive posts are consistently the longest across all subreddits, neutral posts are the shortest, and negatives sit in between, most dramatically on r/stocksbuytoday, where positive texts are several times longer than neutral/negative ones. Subreddit style also matters: r/wallstreetbets is the most concise across sentiments, while r/stocks and r/stocksbuytoday feature much longer positive posts (and r/stocks has relatively long negatives, too). Together this suggests that longer, more detailed messages tend to be positive, but the strength of that pattern varies by community."
   ]
  },
  {
   "cell_type": "markdown",
   "metadata": {},
   "source": [
    "# Phase 2"
   ]
  }
 ],
 "metadata": {
  "kernelspec": {
   "display_name": "Python (dm2025lab)",
   "language": "python",
   "name": "dm2025lab"
  },
  "language_info": {
   "codemirror_mode": {
    "name": "ipython",
    "version": 3
   },
   "file_extension": ".py",
   "mimetype": "text/x-python",
   "name": "python",
   "nbconvert_exporter": "python",
   "pygments_lexer": "ipython3",
   "version": "3.11.0"
  }
 },
 "nbformat": 4,
 "nbformat_minor": 4
}
